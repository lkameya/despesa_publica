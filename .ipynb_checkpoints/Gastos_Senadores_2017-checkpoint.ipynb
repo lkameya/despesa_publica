{
 "cells": [
  {
   "cell_type": "code",
   "execution_count": 3,
   "metadata": {},
   "outputs": [],
   "source": [
    "import pandas as pd"
   ]
  },
  {
   "cell_type": "code",
   "execution_count": 4,
   "metadata": {},
   "outputs": [
    {
     "data": {
      "text/plain": [
       "'0.22.0'"
      ]
     },
     "execution_count": 4,
     "metadata": {},
     "output_type": "execute_result"
    }
   ],
   "source": [
    "pd.__version__"
   ]
  },
  {
   "cell_type": "code",
   "execution_count": 8,
   "metadata": {},
   "outputs": [],
   "source": [
    "df = pd.read_csv('2017.csv', skiprows=1, encoding='latin1', delimiter=';')"
   ]
  },
  {
   "cell_type": "code",
   "execution_count": 12,
   "metadata": {},
   "outputs": [
    {
     "data": {
      "text/html": [
       "<div>\n",
       "<style scoped>\n",
       "    .dataframe tbody tr th:only-of-type {\n",
       "        vertical-align: middle;\n",
       "    }\n",
       "\n",
       "    .dataframe tbody tr th {\n",
       "        vertical-align: top;\n",
       "    }\n",
       "\n",
       "    .dataframe thead th {\n",
       "        text-align: right;\n",
       "    }\n",
       "</style>\n",
       "<table border=\"1\" class=\"dataframe\">\n",
       "  <thead>\n",
       "    <tr style=\"text-align: right;\">\n",
       "      <th></th>\n",
       "      <th>ANO</th>\n",
       "      <th>MES</th>\n",
       "      <th>SENADOR</th>\n",
       "      <th>TIPO_DESPESA</th>\n",
       "      <th>CNPJ_CPF</th>\n",
       "      <th>FORNECEDOR</th>\n",
       "      <th>DOCUMENTO</th>\n",
       "      <th>DATA</th>\n",
       "      <th>DETALHAMENTO</th>\n",
       "      <th>VALOR_REEMBOLSADO</th>\n",
       "    </tr>\n",
       "  </thead>\n",
       "  <tbody>\n",
       "    <tr>\n",
       "      <th>0</th>\n",
       "      <td>2017</td>\n",
       "      <td>1</td>\n",
       "      <td>ACIR GURGACZ</td>\n",
       "      <td>Aluguel de imóveis para escritório político, c...</td>\n",
       "      <td>05.914.650/0001-66</td>\n",
       "      <td>ELETROBRÁS DISTRIBUIÇÃO RONDÔNIA</td>\n",
       "      <td>000034079</td>\n",
       "      <td>18/01/2017</td>\n",
       "      <td>Despesa com pagamento de energia elétrica para...</td>\n",
       "      <td>97</td>\n",
       "    </tr>\n",
       "    <tr>\n",
       "      <th>1</th>\n",
       "      <td>2017</td>\n",
       "      <td>1</td>\n",
       "      <td>ACIR GURGACZ</td>\n",
       "      <td>Aluguel de imóveis para escritório político, c...</td>\n",
       "      <td>004.948.028-63</td>\n",
       "      <td>GILBERTO PISELO DO NASCIMENTO</td>\n",
       "      <td>001/17</td>\n",
       "      <td>17/01/2017</td>\n",
       "      <td>Despesa com aluguel de imóvel para uso do escr...</td>\n",
       "      <td>6000</td>\n",
       "    </tr>\n",
       "    <tr>\n",
       "      <th>2</th>\n",
       "      <td>2017</td>\n",
       "      <td>1</td>\n",
       "      <td>ACIR GURGACZ</td>\n",
       "      <td>Aluguel de imóveis para escritório político, c...</td>\n",
       "      <td>05.423.963/0001-11</td>\n",
       "      <td>OI MÓVEL S.A.</td>\n",
       "      <td>744526352</td>\n",
       "      <td>18/01/2017</td>\n",
       "      <td>Despesa com pagamento de telefone celular para...</td>\n",
       "      <td>418,04</td>\n",
       "    </tr>\n",
       "    <tr>\n",
       "      <th>3</th>\n",
       "      <td>2017</td>\n",
       "      <td>1</td>\n",
       "      <td>ACIR GURGACZ</td>\n",
       "      <td>Passagens aéreas, aquáticas e terrestres nacio...</td>\n",
       "      <td>13.419.034/0001-67</td>\n",
       "      <td>e-Destinos.com.br</td>\n",
       "      <td>2LLTII</td>\n",
       "      <td>23/01/2017</td>\n",
       "      <td>Companhia Aérea: LATAM, Localizador: 2LLTII. P...</td>\n",
       "      <td>1958,95</td>\n",
       "    </tr>\n",
       "    <tr>\n",
       "      <th>4</th>\n",
       "      <td>2017</td>\n",
       "      <td>1</td>\n",
       "      <td>ACIR GURGACZ</td>\n",
       "      <td>Passagens aéreas, aquáticas e terrestres nacio...</td>\n",
       "      <td>63.764.211/0001-10</td>\n",
       "      <td>TRANSCONTINENTAL AGÊNCIA DE VIAGENS LTDA</td>\n",
       "      <td>2QXSBC</td>\n",
       "      <td>24/01/2017</td>\n",
       "      <td>Companhia Aérea: LATAM, Localizador: 2QXSBC. P...</td>\n",
       "      <td>1178,67</td>\n",
       "    </tr>\n",
       "  </tbody>\n",
       "</table>\n",
       "</div>"
      ],
      "text/plain": [
       "    ANO  MES       SENADOR                                       TIPO_DESPESA  \\\n",
       "0  2017    1  ACIR GURGACZ  Aluguel de imóveis para escritório político, c...   \n",
       "1  2017    1  ACIR GURGACZ  Aluguel de imóveis para escritório político, c...   \n",
       "2  2017    1  ACIR GURGACZ  Aluguel de imóveis para escritório político, c...   \n",
       "3  2017    1  ACIR GURGACZ  Passagens aéreas, aquáticas e terrestres nacio...   \n",
       "4  2017    1  ACIR GURGACZ  Passagens aéreas, aquáticas e terrestres nacio...   \n",
       "\n",
       "             CNPJ_CPF                                FORNECEDOR  DOCUMENTO  \\\n",
       "0  05.914.650/0001-66          ELETROBRÁS DISTRIBUIÇÃO RONDÔNIA  000034079   \n",
       "1      004.948.028-63             GILBERTO PISELO DO NASCIMENTO     001/17   \n",
       "2  05.423.963/0001-11                             OI MÓVEL S.A.  744526352   \n",
       "3  13.419.034/0001-67                         e-Destinos.com.br     2LLTII   \n",
       "4  63.764.211/0001-10  TRANSCONTINENTAL AGÊNCIA DE VIAGENS LTDA     2QXSBC   \n",
       "\n",
       "         DATA                                       DETALHAMENTO  \\\n",
       "0  18/01/2017  Despesa com pagamento de energia elétrica para...   \n",
       "1  17/01/2017  Despesa com aluguel de imóvel para uso do escr...   \n",
       "2  18/01/2017  Despesa com pagamento de telefone celular para...   \n",
       "3  23/01/2017  Companhia Aérea: LATAM, Localizador: 2LLTII. P...   \n",
       "4  24/01/2017  Companhia Aérea: LATAM, Localizador: 2QXSBC. P...   \n",
       "\n",
       "  VALOR_REEMBOLSADO  \n",
       "0                97  \n",
       "1              6000  \n",
       "2            418,04  \n",
       "3           1958,95  \n",
       "4           1178,67  "
      ]
     },
     "execution_count": 12,
     "metadata": {},
     "output_type": "execute_result"
    }
   ],
   "source": [
    "df.head()"
   ]
  },
  {
   "cell_type": "code",
   "execution_count": null,
   "metadata": {},
   "outputs": [],
   "source": []
  }
 ],
 "metadata": {
  "kernelspec": {
   "display_name": "Python 3",
   "language": "python",
   "name": "python3"
  },
  "language_info": {
   "codemirror_mode": {
    "name": "ipython",
    "version": 3
   },
   "file_extension": ".py",
   "mimetype": "text/x-python",
   "name": "python",
   "nbconvert_exporter": "python",
   "pygments_lexer": "ipython3",
   "version": "3.6.4"
  }
 },
 "nbformat": 4,
 "nbformat_minor": 2
}
